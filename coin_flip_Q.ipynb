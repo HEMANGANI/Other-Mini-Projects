{
  "nbformat": 4,
  "nbformat_minor": 0,
  "metadata": {
    "colab": {
      "name": "coin_flip_Q.ipynb",
      "provenance": []
    },
    "kernelspec": {
      "name": "python3",
      "display_name": "Python 3"
    }
  },
  "cells": [
    {
      "cell_type": "code",
      "metadata": {
        "colab": {
          "base_uri": "https://localhost:8080/"
        },
        "id": "FFIAIOAU0si1",
        "outputId": "069b7f7b-4191-46ea-bf26-84b786efea71"
      },
      "source": [
        "#1\n",
        "import numpy as np\n",
        "from fractions import Fraction as frac\n",
        "Pr = {}\n",
        "n = 100\n",
        "for s in range(- 3 * n, 3 * n + 1):\n",
        "    Pr[(n, s)] = frac(int(s > 0))\n",
        "for r in reversed(range(n)):\n",
        "    for s in range(-3 * r, 3 * r + 1):\n",
        "        flipping_x = frac(1, 2) * (Pr[(r + 1, s - 1)] + \\\n",
        "                                  Pr[(r + 1, s + 1)])\n",
        "        flipping_y = frac(1, 2) * (Pr[(r + 1, s - 3)] + \\\n",
        "                                  Pr[(r + 1, s + 3)])\n",
        "        if flipping_x > flipping_y or (flipping_x == flipping_y and s > 0):\n",
        "            Pr[(r, s)] = flipping_x\n",
        "        else:\n",
        "            Pr[(r, s)] = flipping_y\n",
        "float(Pr[(0, 0)])"
      ],
      "execution_count": null,
      "outputs": [
        {
          "output_type": "execute_result",
          "data": {
            "text/plain": [
              "0.7102053813064106"
            ]
          },
          "metadata": {
            "tags": []
          },
          "execution_count": 6
        }
      ]
    },
    {
      "cell_type": "code",
      "metadata": {
        "colab": {
          "base_uri": "https://localhost:8080/"
        },
        "id": "Q5YeSFyuAVqB",
        "outputId": "2d572ff5-d4a4-489d-c65b-04a66fbbe389"
      },
      "source": [
        "#2\n",
        "from collections import namedtuple\n",
        "class GameState(namedtuple(\"GameState\", (\"n_flip\", \"score\"))):\n",
        "    cache: dict = {}  \n",
        "    p_a: float = 0.5  \n",
        "    p_b: float = 0.5  \n",
        "    v_a: int = 1      \n",
        "    v_b: int = 3      \n",
        "    def expected_value(self) -> float:  \n",
        "        try:\n",
        "            return self.cache[self]\n",
        "        except KeyError: \n",
        "            if self.n_flip == 100:\n",
        "                if self.score > 0:\n",
        "                    self.cache[self] = 1.0\n",
        "                else:\n",
        "                    self.cache[self] = 0.0\n",
        "            else:\n",
        "                \n",
        "                n, s = self.n_flip + 1, self.score\n",
        "                a = (\n",
        "                    self.p_a * GameState(n, s+ self.v_a).expected_value()\n",
        "                    + (1 - self.p_a) * GameState(n, s - self.v_a).expected_value()\n",
        "                )\n",
        "                b = (\n",
        "                    self.p_b * GameState(n, s + self.v_b).expected_value()\n",
        "                    + (1 - self.p_b) * GameState(n, s - self.v_b).expected_value()\n",
        "                )\n",
        "                self.cache[self] = max(a, b)\n",
        "            return self.cache[self]\n",
        "if __name__ == \"__main__\":\n",
        "    import doctest\n",
        "    doctest.testmod()\n",
        "GameState(0, 0).expected_value()"
      ],
      "execution_count": null,
      "outputs": [
        {
          "output_type": "execute_result",
          "data": {
            "text/plain": [
              "0.7102053813064106"
            ]
          },
          "metadata": {
            "tags": []
          },
          "execution_count": 7
        }
      ]
    },
    {
      "cell_type": "code",
      "metadata": {
        "colab": {
          "base_uri": "https://localhost:8080/"
        },
        "id": "q2MK1dBZ5RoV",
        "outputId": "6f07e20b-f39e-41c6-ed32-0d9d9c35edbd"
      },
      "source": [
        "#3\n",
        "#change 3\n",
        "import numpy as np\n",
        "def compute_win_prob( a, b, N ):    \n",
        "    v = np.zeros(4*N+1)\n",
        "    v[:2*N] = 0\n",
        "    v[2*N+1:] = 1\n",
        "    for t in range(N):\n",
        "        coin_A = a*v[3:4*N] + (1-a)*v[1:4*N-2]\n",
        "        coin_B = b*v[4:4*N+1] + (1-b)*v[0:4*N-3]\n",
        "        v[2:4*N-1] = np.maximum(coin_A, coin_B)\n",
        "    return v[2*N]\n",
        "compute_win_prob(0.5,0.5,100)"
      ],
      "execution_count": null,
      "outputs": [
        {
          "output_type": "execute_result",
          "data": {
            "text/plain": [
              "0.6403174472759772"
            ]
          },
          "metadata": {
            "tags": []
          },
          "execution_count": 9
        }
      ]
    }
  ]
}